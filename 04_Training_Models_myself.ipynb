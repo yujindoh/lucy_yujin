# this is the practice file for Chap 4. Training Models

